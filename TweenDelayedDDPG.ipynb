{
  "nbformat": 4,
  "nbformat_minor": 0,
  "metadata": {
    "colab": {
      "name": "TweenDelayedDDPG.ipynb",
      "provenance": [],
      "collapsed_sections": [],
      "authorship_tag": "ABX9TyPve/jzaboOSa9qGLR45qBg",
      "include_colab_link": true
    },
    "kernelspec": {
      "name": "python3",
      "display_name": "Python 3"
    },
    "accelerator": "GPU"
  },
  "cells": [
    {
      "cell_type": "markdown",
      "metadata": {
        "id": "view-in-github",
        "colab_type": "text"
      },
      "source": [
        "<a href=\"https://colab.research.google.com/github/nutov/03_BuildEscape/blob/master/TweenDelayedDDPG.ipynb\" target=\"_parent\"><img src=\"https://colab.research.google.com/assets/colab-badge.svg\" alt=\"Open In Colab\"/></a>"
      ]
    },
    {
      "cell_type": "code",
      "metadata": {
        "id": "qoq3D4Ur8qlV",
        "colab_type": "code",
        "colab": {
          "base_uri": "https://localhost:8080/",
          "height": 52
        },
        "outputId": "39ed5565-4d78-42d3-8302-c5531be4fdae"
      },
      "source": [
        "!pip install pybullet"
      ],
      "execution_count": 26,
      "outputs": [
        {
          "output_type": "stream",
          "text": [
            "Requirement already satisfied: pybullet in /usr/local/lib/python3.6/dist-packages (2.6.4)\n",
            "Requirement already satisfied: numpy in /usr/local/lib/python3.6/dist-packages (from pybullet) (1.17.5)\n"
          ],
          "name": "stdout"
        }
      ]
    },
    {
      "cell_type": "code",
      "metadata": {
        "id": "mdkDijQm80kC",
        "colab_type": "code",
        "colab": {}
      },
      "source": [
        "import os\n",
        "import time\n",
        "import random\n",
        "import numpy as np\n",
        "import matplotlib.pyplot as plt\n",
        "import pybullet_envs\n",
        "import torch\n",
        "import gym\n",
        "import torch.nn as nn\n",
        "import torch.nn.functional as F\n",
        "from gym import wrappers\n",
        "from torch.autograd import Variable\n"
      ],
      "execution_count": 0,
      "outputs": []
    },
    {
      "cell_type": "code",
      "metadata": {
        "id": "EOByauew80uH",
        "colab_type": "code",
        "colab": {}
      },
      "source": [
        "# Creating a Buffer \n",
        "class ReplayBuffer(object):\n",
        "  def __init__(self,max_size = 1e6):\n",
        "    self.storage = []\n",
        "    self.max_size = max_size\n",
        "    self.ptr = 0\n",
        "\n",
        "  def add(self,transition):\n",
        "    if len(self.storage) == self.max_size:\n",
        "      self.storage[int(self.ptr)] = transition\n",
        "      self.ptr = (self.ptr+1) % self.max_size\n",
        "    else:\n",
        "      self.storage.append(transition)\n",
        "\n",
        "  def sample(self,batch_size):\n",
        "    ind = np.random.randint(0,len(self.storage),size = batch_size)\n",
        "    batch_states,batch_next_states,batch_actions,batch_rewards,batch_dones = [],[],[],[],[]\n",
        "    for i in ind:\n",
        "      state,next_state,action,reward,done = self.storage[i]\n",
        "      batch_states.append(np.array(state,copy=False))\n",
        "      batch_next_states.append(np.array(next_state,copy=False))\n",
        "      batch_actions.append(np.array(action,copy=False))\n",
        "      batch_rewards.append(np.array(reward,copy=False))\n",
        "      batch_dones.append(np.array(done,copy=False))\n",
        "      \n",
        "    return np.array(batch_states),np.array(batch_next_states),np.array(batch_actions),np.array(batch_rewards).reshape(-1,1),np.array(batch_dones).reshape(-1,1)\n",
        "\n"
      ],
      "execution_count": 0,
      "outputs": []
    },
    {
      "cell_type": "code",
      "metadata": {
        "id": "F5o_zr_u80xF",
        "colab_type": "code",
        "colab": {}
      },
      "source": [
        "class Actor(nn.Module):\n",
        "  def __init__(self,state_dim,action_dim,max_action):\n",
        "    super(Actor,self).__init__()\n",
        "    self.layer_1 = nn.Linear(state_dim,400)\n",
        "    self.layer_2 = nn.Linear(400,300)\n",
        "    self.layer_3 = nn.Linear(300,action_dim)\n",
        "    self.max_action = max_action\n",
        "  \n",
        "  def forward(self,x):\n",
        "    x = F.relu(self.layer_1(x))\n",
        "    x = F.relu(self.layer_2(x))\n",
        "    x = self.max_action*torch.tanh(self.layer_3(x))\n",
        "    return x\n"
      ],
      "execution_count": 0,
      "outputs": []
    },
    {
      "cell_type": "code",
      "metadata": {
        "id": "D3vswkbB800I",
        "colab_type": "code",
        "colab": {}
      },
      "source": [
        "class Critic(nn.Module):\n",
        "  def __init__(self,state_dim,action_dim,max_action):\n",
        "    super(Critic,self).__init__()\n",
        "\n",
        "    # defining the first critic\n",
        "    self.layer_1 = nn.Linear(state_dim + action_dim,400)\n",
        "    self.layer_2 = nn.Linear(400,300)\n",
        "    self.layer_3 = nn.Linear(300,1)\n",
        "    # defining the second critic\n",
        "    self.layer_1 = nn.Linear(state_dim + action_dim,400)\n",
        "    self.layer_2 = nn.Linear(400,300)\n",
        "    self.layer_3 = nn.Linear(300,1)  \n",
        "\n",
        "  def forward(self,x,u):\n",
        "    xu = torch.cat([x,u],dim = 1)\n",
        "    # forward pass first network\n",
        "    x_1 = F.relu(self.layer_1(xu))\n",
        "    x_1 = F.relu(self.layer_2(x_1))\n",
        "    x_1 = self.layer_3(x_1)\n",
        "    # forward pass second network\n",
        "    x_2 = F.relu(self.layer_4(xu))\n",
        "    x_2 = F.relu(self.layer_5(x_2))\n",
        "    x_2 = self.layer_6(x_2)\n",
        "    return x_1,x_2\n",
        "\n",
        "  def Q1(self,x,u):\n",
        "    xu = torch.cat([x,u],dim = 1)\n",
        "    x_1 = F.relu(self.layer_1(xu))\n",
        "    x_1 = F.relu(self.layer_2(x_1))\n",
        "    x_1 = self.layer_3(x_1)\n",
        "    return x_1"
      ],
      "execution_count": 0,
      "outputs": []
    },
    {
      "cell_type": "code",
      "metadata": {
        "id": "CRFqMqJg802-",
        "colab_type": "code",
        "colab": {}
      },
      "source": [
        "# selecting a device\n",
        "device = torch.device(\"cuda:0\" if torch.cuda.is_available() else \"cpu\")\n",
        "\n",
        "# Building the training process into a class\n",
        "class TD3(object):\n",
        "  def __init__(self,state_dim,action_dim,max_action,device = 'cpu'):\n",
        "    self.device = device\n",
        "    self.actor = Actor(state_dim,action_dim,max_action).to(device)\n",
        "    self.actor_target = Actor(state_dim,action_dim,max_action).to(device)\n",
        "    self.actor_target.load_state_dict(self.actor.state_dict())\n",
        "    self.actor_optimizer = torch.optim.Adam(self.actor.parameters())\n",
        "    # \n",
        "    self.critic = Critic(state_dim,action_dim).to(device)\n",
        "    self.critic_target = Critic(state_dim,action_dim).to(device)\n",
        "    self.critic_target.load_state_dict(self.critic.state_dict())\n",
        "    self.actor_optimizer = torch.optim.Adam(self.critic.parameters())    \n",
        "\n",
        "    self.max_action = max_action\n",
        "  def select_action(self,states):\n",
        "    state = torch.tensor(state.reshape(1,-1)).to(self.device)\n",
        "    return self.actor(state).cpu().data.numpy().flatten()\n",
        "\n",
        "  def train(self,replay_buffer,iteration,batch_size=100,discount=0.99,tau=0.005,policy_noise = 0.2,noise_clip=0.5,policy_freq = 2):\n",
        "\n",
        "    for it in range(iteration):\n",
        "\n",
        "      batch_states,batch_next_states,batch_actions,batch_rewards,batch_dones = replay_buffer.sample(batch_size)\n",
        "      state = torch.Tensor(batch_states).to(self.device)\n",
        "      next_state = torch.Tensor(batch_next_states).to(self.device)\n",
        "      action = torch.Tensor(batch_actions).to(self.device)\n",
        "      reward = torch.Tensor(batch_rewards).to(self.device)\n",
        "      done = torch.Tensor(batch_dones).to(self.device)\n",
        "      \n",
        "      # from the next state the actor target plays the next action \n",
        "      next_action = self.actor_target(next_state)\n",
        "      noise = torch.Tensor(batch_actions).data.normal_(0,policy_noise).to(self.device)\n",
        "      noise = noise.clamp(-noise_clip,noise_clip)\n",
        "      next_action = (next_action + noise).clamp(-self.max_action,self.max_action)\n",
        "      \n",
        "      traget_Q1,traget_Q2 = self.critic_target(next_state,next_action)\n",
        "      target_Q = torch.min(traget_Q1,traget_Q2)\n",
        "\n",
        "      target_Q = reward + (discount*(1-done)*target_Q).detach()\n",
        "      current_Q1,current_Q2 = self.critic(state,action)\n",
        "\n",
        "      critic_loss = F.mse_loss(current_Q1,target_Q)+F.mse_loss(current_Q2,target_Q)\n",
        "\n",
        "      self.critic_optimizer.zero_grad()\n",
        "      critic_loss.backward()\n",
        "      self.critic_optimizer.step()\n",
        "      \n",
        "      if it % policy_freq == 0:\n",
        "        actor_loss = -self.critic.Q1(state,self.actor(state)).mean()\n",
        "        self.actor_optimizer.zero_grad()\n",
        "        actor_loss.backward()\n",
        "        self.actor_optimizer.step()\n",
        "\n",
        "        for param,target_param in zip(self.actor.parameters(),self.actor_target.parameters()):\n",
        "          target_param.data.copy_(tau*param.data + (1-tau)*target_param.data)\n",
        "\n",
        "        for param,target_param in zip(self.critic.parameters(),self.critic_target.parameters()):\n",
        "          target_param.data.copy_(tau*param.data + (1-tau)*target_param.data)        \n"
      ],
      "execution_count": 0,
      "outputs": []
    },
    {
      "cell_type": "code",
      "metadata": {
        "id": "EZ8YFzsS805y",
        "colab_type": "code",
        "colab": {}
      },
      "source": [
        ""
      ],
      "execution_count": 0,
      "outputs": []
    },
    {
      "cell_type": "code",
      "metadata": {
        "id": "z3johz0QYR36",
        "colab_type": "code",
        "colab": {}
      },
      "source": [
        ""
      ],
      "execution_count": 0,
      "outputs": []
    },
    {
      "cell_type": "code",
      "metadata": {
        "id": "ob1wXvXgYSA0",
        "colab_type": "code",
        "colab": {}
      },
      "source": [
        ""
      ],
      "execution_count": 0,
      "outputs": []
    },
    {
      "cell_type": "code",
      "metadata": {
        "id": "WfqXt7RQYSEV",
        "colab_type": "code",
        "colab": {}
      },
      "source": [
        ""
      ],
      "execution_count": 0,
      "outputs": []
    }
  ]
}